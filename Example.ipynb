{
 "cells": [
  {
   "cell_type": "code",
   "execution_count": 1,
   "metadata": {
    "scrolled": true
   },
   "outputs": [],
   "source": [
    "import numpy as np\n",
    "from nab_metrics import nab_score"
   ]
  },
  {
   "cell_type": "code",
   "execution_count": 2,
   "metadata": {},
   "outputs": [
    {
     "name": "stdout",
     "output_type": "stream",
     "text": [
      "custom algorithm: optimizer found a max score of 0.8352146884012095 with anomaly threshold 0.7.\n",
      "null algorithm: optimizer found a max score of -0.19170628720161376 with anomaly threshold 0.0.\n",
      "random algorithm: optimizer found a max score of 0.3416040933330704 with anomaly threshold 0.5986584841970366.\n"
     ]
    }
   ],
   "source": [
    "y_true = np.array([0]*3 + [1]*3 + [0]*10)\n",
    "y_predict = np.array([0.2, 0.5, 0.6, 0.3, \n",
    "                      0.7, 0.9, 0.5, 0.7, \n",
    "                      0.1, 0.2, 0.3, 0.4, \n",
    "                      0.5, 0.5, 0.1, 0.01])\n",
    "\n",
    "res = nab_score(y_true, y_predict)"
   ]
  },
  {
   "cell_type": "code",
   "execution_count": 3,
   "metadata": {},
   "outputs": [
    {
     "data": {
      "text/plain": [
       "[('custom', 0.8352146884012095, 0.7),\n",
       " ('null', -0.19170628720161376, 0.0),\n",
       " ('random', 0.3416040933330704, 0.5986584841970366)]"
      ]
     },
     "execution_count": 3,
     "metadata": {},
     "output_type": "execute_result"
    }
   ],
   "source": [
    "res"
   ]
  },
  {
   "cell_type": "code",
   "execution_count": null,
   "metadata": {},
   "outputs": [],
   "source": []
  }
 ],
 "metadata": {
  "kernelspec": {
   "display_name": "Python 3",
   "language": "python",
   "name": "python3"
  },
  "language_info": {
   "codemirror_mode": {
    "name": "ipython",
    "version": 3
   },
   "file_extension": ".py",
   "mimetype": "text/x-python",
   "name": "python",
   "nbconvert_exporter": "python",
   "pygments_lexer": "ipython3",
   "version": "3.6.7"
  }
 },
 "nbformat": 4,
 "nbformat_minor": 2
}
